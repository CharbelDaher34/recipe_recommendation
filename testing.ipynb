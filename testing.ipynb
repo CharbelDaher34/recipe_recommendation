{
 "cells": [
  {
   "cell_type": "code",
   "execution_count": null,
   "metadata": {},
   "outputs": [],
   "source": [
    "from libretranslatepy import LibreTranslateAPI"
   ]
  },
  {
   "cell_type": "code",
   "execution_count": null,
   "metadata": {},
   "outputs": [],
   "source": [
    "from libretranslatepy import LibreTranslateAPI\n",
    "\n",
    "lt = LibreTranslateAPI(\"https://translate.terraprint.co/\")\n",
    "\n",
    "print(lt.translate(\"LibreTranslate is awesome!\", \"en\", \"es\"))\n",
    "# LibreTranslate es impresionante!\n",
    "\n",
    "print(lt.detect(\"Hello World\"))\n",
    "# [{\"confidence\": 0.6, \"language\": \"en\"}]\n",
    "\n",
    "print(lt.languages())\n",
    "# [{\"code\":\"en\", \"name\":\"English\"}]"
   ]
  },
  {
   "cell_type": "code",
   "execution_count": 3,
   "metadata": {},
   "outputs": [
    {
     "name": "stdout",
     "output_type": "stream",
     "text": [
      "Hindi to English: Tomatoes are delicious\n",
      "English to Hindi: टमाटर स्वादिष्ट है\n"
     ]
    }
   ],
   "source": [
    "from deep_translator import GoogleTranslator\n",
    "\n",
    "\n",
    "def translate_text(text, target_lang, source_lang=\"auto\"):\n",
    "    translator = GoogleTranslator(source=source_lang, target=target_lang)\n",
    "    return translator.translate(text)\n",
    "\n",
    "\n",
    "# Example usage\n",
    "hindi_text = \"टमाटर स्वादिष्ट है\"\n",
    "english_text = \"tomato is tasty\"\n",
    "\n",
    "# Hindi to English\n",
    "print(f\"Hindi to English: {translate_text(hindi_text, 'en', 'hi')}\")\n",
    "\n",
    "# English to Hindi\n",
    "print(f\"English to Hindi: {translate_text(english_text, 'hi', 'en')}\")"
   ]
  },
  {
   "cell_type": "code",
   "execution_count": null,
   "metadata": {},
   "outputs": [],
   "source": [
    "%pip install git+https://github.com/openai/CLIP.git"
   ]
  },
  {
   "cell_type": "code",
   "execution_count": 4,
   "metadata": {},
   "outputs": [
    {
     "name": "stdout",
     "output_type": "stream",
     "text": [
      "Image Embedding: torch.Size([1, 512])\n",
      "Text Embedding: torch.Size([1, 512])\n"
     ]
    }
   ],
   "source": [
    "## Input\n",
    "### Import libraries\n",
    "import torch\n",
    "import clip\n",
    "from PIL import Image\n",
    "\n",
    "### Setup variables\n",
    "device = \"cuda\" if torch.cuda.is_available() else \"cpu\"\n",
    "model, preprocess = clip.load(\"ViT-B/32\", device=device)\n",
    "\n",
    "image_path = \"../../../../download.jpeg\"\n",
    "text_input = \"your text description here\"\n",
    "\n",
    "## Model\n",
    "### Preprocess the image and prepare the text\n",
    "image = preprocess(Image.open(image_path)).unsqueeze(0).to(device)\n",
    "text = clip.tokenize([text_input]).to(device)\n",
    "\n",
    "### Generate embeddings\n",
    "with torch.no_grad():\n",
    "    image_embedding = model.encode_image(image)\n",
    "    text_embedding = model.encode_text(text)\n",
    "\n",
    "## Output\n",
    "### Display embeddings\n",
    "print(\"Image Embedding:\", image_embedding.shape)\n",
    "print(\"Text Embedding:\", text_embedding.shape)"
   ]
  },
  {
   "cell_type": "code",
   "execution_count": null,
   "metadata": {},
   "outputs": [],
   "source": []
  }
 ],
 "metadata": {
  "kernelspec": {
   "display_name": "Python 3",
   "language": "python",
   "name": "python3"
  },
  "language_info": {
   "codemirror_mode": {
    "name": "ipython",
    "version": 3
   },
   "file_extension": ".py",
   "mimetype": "text/x-python",
   "name": "python",
   "nbconvert_exporter": "python",
   "pygments_lexer": "ipython3",
   "version": "3.11.0"
  }
 },
 "nbformat": 4,
 "nbformat_minor": 2
}
